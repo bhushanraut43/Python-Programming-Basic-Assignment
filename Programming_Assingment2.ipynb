{
 "cells": [
  {
   "cell_type": "markdown",
   "metadata": {},
   "source": [
    "1.Write a Python program to convert kilometers to miles?"
   ]
  },
  {
   "cell_type": "code",
   "execution_count": 5,
   "metadata": {},
   "outputs": [
    {
     "name": "stdout",
     "output_type": "stream",
     "text": [
      "8.699194\n"
     ]
    }
   ],
   "source": [
    "#1km = 0.621371 miles\n",
    "kilometers = 14 \n",
    "miles = (kilometers*0.621371)\n",
    "print(miles)"
   ]
  },
  {
   "cell_type": "code",
   "execution_count": 6,
   "metadata": {},
   "outputs": [
    {
     "name": "stdout",
     "output_type": "stream",
     "text": [
      "Enter kilometers14\n",
      "8.699194\n"
     ]
    }
   ],
   "source": [
    "#Q1 method2- for input\n",
    "km = int(input(\"Enter kilometers\"))\n",
    "miles = (km*0.621371)\n",
    "print(miles)"
   ]
  },
  {
   "cell_type": "markdown",
   "metadata": {},
   "source": [
    "2.Write a Python program to convert Celsius to Fahrenheit?"
   ]
  },
  {
   "cell_type": "code",
   "execution_count": 7,
   "metadata": {},
   "outputs": [
    {
     "name": "stdout",
     "output_type": "stream",
     "text": [
      "53.6\n"
     ]
    }
   ],
   "source": [
    "#formula = Fahrenheit = (Celsius * 9/5) + 32\n",
    "Celsius = 12\n",
    "Fahrenheit = (Celsius * 9/5) + 32\n",
    "print(Fahrenheit)"
   ]
  },
  {
   "cell_type": "code",
   "execution_count": 11,
   "metadata": {},
   "outputs": [
    {
     "name": "stdout",
     "output_type": "stream",
     "text": [
      "Enter temperature in celsius\n",
      "12\n",
      "converted into Fahrenheit is  53.6\n"
     ]
    }
   ],
   "source": [
    "#Q2 method2- for input\n",
    "Celsius = int(input(\"Enter temperature in celsius\\n\"))\n",
    "Fahrenheit = (Celsius * 9/5) + 32\n",
    "print(\"converted into Fahrenheit is \",Fahrenheit)"
   ]
  },
  {
   "cell_type": "markdown",
   "metadata": {},
   "source": [
    "3.Write a Python program to display calendar?"
   ]
  },
  {
   "cell_type": "code",
   "execution_count": 15,
   "metadata": {},
   "outputs": [
    {
     "name": "stdout",
     "output_type": "stream",
     "text": [
      "Enter year: 2020\n",
      "Enter month: 8\n",
      "    August 2020\n",
      "Mo Tu We Th Fr Sa Su\n",
      "                1  2\n",
      " 3  4  5  6  7  8  9\n",
      "10 11 12 13 14 15 16\n",
      "17 18 19 20 21 22 23\n",
      "24 25 26 27 28 29 30\n",
      "31\n",
      "\n"
     ]
    }
   ],
   "source": [
    "import calendar\n",
    "yy = int(input(\"Enter year: \")) \n",
    "mm = int(input(\"Enter month: \"))\n",
    "print(calendar.month(yy,mm)) "
   ]
  },
  {
   "cell_type": "code",
   "execution_count": 16,
   "metadata": {},
   "outputs": [
    {
     "name": "stdout",
     "output_type": "stream",
     "text": [
      "   February 2021\n",
      "Mo Tu We Th Fr Sa Su\n",
      " 1  2  3  4  5  6  7\n",
      " 8  9 10 11 12 13 14\n",
      "15 16 17 18 19 20 21\n",
      "22 23 24 25 26 27 28\n",
      "\n"
     ]
    }
   ],
   "source": [
    "#method 2\n",
    "import calendar\n",
    "yy = 2021\n",
    "mm = 2\n",
    "print(calendar.month(yy,mm)) "
   ]
  },
  {
   "cell_type": "markdown",
   "metadata": {},
   "source": [
    "4.Write a Python program to solve quadratic equation?"
   ]
  },
  {
   "cell_type": "code",
   "execution_count": 13,
   "metadata": {},
   "outputs": [
    {
     "name": "stdout",
     "output_type": "stream",
     "text": [
      "(-0.5-0.5j) (-0.5+0.5j)\n"
     ]
    }
   ],
   "source": [
    "# ax*ax + bx + c = 0\n",
    "import cmath\n",
    "a = 2\n",
    "b = 2\n",
    "c = 1\n",
    "d = (b**2) - (4*a*c)  #this is a discriminant\n",
    "a1 = (-b-cmath.sqrt(d))/(2*a)\n",
    "a2 = (-b+cmath.sqrt(d))/(2*a)\n",
    "print(a1,a2)\n"
   ]
  },
  {
   "cell_type": "markdown",
   "metadata": {},
   "source": [
    "5.Write a Python program to swap two variables without temp variable?"
   ]
  },
  {
   "cell_type": "code",
   "execution_count": 18,
   "metadata": {},
   "outputs": [
    {
     "name": "stdout",
     "output_type": "stream",
     "text": [
      "enter variable 1\n",
      "44\n",
      "enter variable 2\n",
      "87\n",
      "87 44\n"
     ]
    }
   ],
   "source": [
    "#method1\n",
    "a = int(input(\"enter variable 1\\n\"))\n",
    "b = int(input(\"enter variable 2\\n\"))\n",
    "a = a+b\n",
    "b = a-b\n",
    "a = a-b\n",
    "print(a,b)"
   ]
  },
  {
   "cell_type": "code",
   "execution_count": 19,
   "metadata": {},
   "outputs": [
    {
     "name": "stdout",
     "output_type": "stream",
     "text": [
      "enter variable 1\n",
      "44\n",
      "enter variable 2\n",
      "45\n",
      "(45, 44)\n"
     ]
    }
   ],
   "source": [
    "#method2\n",
    "a = int(input(\"enter variable 1\\n\"))\n",
    "b = int(input(\"enter variable 2\\n\"))\n",
    "c = a,b = b,a\n",
    "print(c)"
   ]
  },
  {
   "cell_type": "code",
   "execution_count": null,
   "metadata": {},
   "outputs": [],
   "source": []
  }
 ],
 "metadata": {
  "kernelspec": {
   "display_name": "Python 3",
   "language": "python",
   "name": "python3"
  },
  "language_info": {
   "codemirror_mode": {
    "name": "ipython",
    "version": 3
   },
   "file_extension": ".py",
   "mimetype": "text/x-python",
   "name": "python",
   "nbconvert_exporter": "python",
   "pygments_lexer": "ipython3",
   "version": "3.8.5"
  }
 },
 "nbformat": 4,
 "nbformat_minor": 4
}
