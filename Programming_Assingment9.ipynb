{
 "cells": [
  {
   "cell_type": "markdown",
   "metadata": {},
   "source": [
    "1.Write a Python program to check if the given number is a Disarium Number?"
   ]
  },
  {
   "cell_type": "code",
   "execution_count": 10,
   "metadata": {},
   "outputs": [
    {
     "name": "stdout",
     "output_type": "stream",
     "text": [
      "Enter number: 89\n",
      "the given number is a Disarium\n"
     ]
    }
   ],
   "source": [
    "n = int(input(\"Enter number: \"))\n",
    "sum = 0\n",
    "j = 1\n",
    "temp = n\n",
    "while(temp!=0):\n",
    "    reminder = temp%10\n",
    "    sum = sum*10+reminder\n",
    "    temp = int(temp/10)\n",
    "temp = sum \n",
    "sum = 0\n",
    "while(temp!=0):\n",
    "    reminder = temp%10\n",
    "    sum=sum+pow(reminder,j)\n",
    "    temp = int(temp/10)\n",
    "    j=j+1\n",
    "if sum==n:\n",
    "    print(\"the given number is a Disarium\")\n",
    "else:\n",
    "    print(\"Not Disarium\")"
   ]
  },
  {
   "cell_type": "markdown",
   "metadata": {},
   "source": [
    "2.Write a Python program to print all disarium numbers between 1 to 100?"
   ]
  },
  {
   "cell_type": "code",
   "execution_count": 14,
   "metadata": {},
   "outputs": [
    {
     "name": "stdout",
     "output_type": "stream",
     "text": [
      "disarium numbers between 1 to 100 are: \n",
      "1\n",
      "2\n",
      "3\n",
      "4\n",
      "5\n",
      "6\n",
      "7\n",
      "8\n",
      "9\n",
      "89\n"
     ]
    }
   ],
   "source": [
    "#the given question is easy to write using math library\n",
    "import math\n",
    "r1 = 1\n",
    "r2 = 100\n",
    "print(\"disarium numbers between 1 to 100 are: \")\n",
    "for i in range(r1,r2+1):\n",
    "    num=i\n",
    "    c=0\n",
    "    while num !=0:\n",
    "        num//=10\n",
    "        c+=1\n",
    "    num = i\n",
    "    sum = 0\n",
    "    while num!=0:\n",
    "        reminder = num%10\n",
    "        sum+=math.pow(reminder,c)\n",
    "        num//=10\n",
    "        c-=1\n",
    "    if sum==i:\n",
    "        print(i)"
   ]
  },
  {
   "cell_type": "markdown",
   "metadata": {},
   "source": [
    "3.Write a Python program to check if the given number is Happy Number?"
   ]
  },
  {
   "cell_type": "code",
   "execution_count": 43,
   "metadata": {},
   "outputs": [
    {
     "name": "stdout",
     "output_type": "stream",
     "text": [
      "Its a happy number\n"
     ]
    }
   ],
   "source": [
    "def check(num):\n",
    "    r = sum_1 = 0\n",
    "    while(num>0):\n",
    "        reminder = num%10\n",
    "        sum_1=sum_1+(reminder*reminder)\n",
    "        num = num//10\n",
    "    return sum_1\n",
    "num = 19\n",
    "res = num\n",
    "while(res!=1 and res!=4):\n",
    "    res = check(res)\n",
    "if(res==1):\n",
    "    print(\"Its a happy number\")\n",
    "else:\n",
    "    print(\"Not happy\")"
   ]
  },
  {
   "cell_type": "markdown",
   "metadata": {},
   "source": [
    "4.Write a Python program to print all happy numbers between 1 and 100?"
   ]
  },
  {
   "cell_type": "code",
   "execution_count": 49,
   "metadata": {},
   "outputs": [
    {
     "name": "stdout",
     "output_type": "stream",
     "text": [
      "1\n",
      "7\n",
      "10\n",
      "13\n",
      "19\n",
      "23\n",
      "28\n",
      "31\n",
      "32\n",
      "44\n",
      "49\n",
      "68\n",
      "70\n",
      "79\n",
      "82\n",
      "86\n",
      "91\n",
      "94\n",
      "97\n",
      "100\n"
     ]
    }
   ],
   "source": [
    "def check(num):\n",
    "    r = sum_1 = 0\n",
    "    while(num>0):\n",
    "        reminder = num%10\n",
    "        sum_1=sum_1+(reminder*reminder)\n",
    "        num = num//10\n",
    "    return sum_1\n",
    "for i in range(1,101):\n",
    "    res = i\n",
    "    while(res!=1 and res!=4):\n",
    "        res = check(res)\n",
    "    if(res==1):\n",
    "        print(i)\n"
   ]
  },
  {
   "cell_type": "markdown",
   "metadata": {},
   "source": [
    "5.Write a Python program to determine whether the given number is a Harshad Number?"
   ]
  },
  {
   "cell_type": "code",
   "execution_count": 8,
   "metadata": {},
   "outputs": [
    {
     "name": "stdout",
     "output_type": "stream",
     "text": [
      "Enter number: 54\n",
      "its harshad\n"
     ]
    }
   ],
   "source": [
    "n = int(input(\"Enter number: \"))\n",
    "reminder = sum = 0\n",
    "num = n\n",
    "while(n>0):\n",
    "    reminder = n%10\n",
    "    sum = sum+reminder\n",
    "    n=n//10\n",
    "if(num%sum==0):\n",
    "    print(\"its harshad\")\n",
    "else:\n",
    "    print(\"not Harshed\")"
   ]
  },
  {
   "cell_type": "markdown",
   "metadata": {},
   "source": [
    "6.Write a Python program to print all pronic numbers between 1 and 100?"
   ]
  },
  {
   "cell_type": "code",
   "execution_count": 15,
   "metadata": {},
   "outputs": [
    {
     "name": "stdout",
     "output_type": "stream",
     "text": [
      "2\n",
      "6\n",
      "12\n",
      "20\n",
      "30\n",
      "42\n",
      "56\n",
      "72\n",
      "90\n"
     ]
    }
   ],
   "source": [
    "#using math\n",
    "import math\n",
    "r1 =1\n",
    "r2 =100\n",
    "for i in range(r1,r2+1):\n",
    "    f = 0\n",
    "    for j in range(0,i+1):\n",
    "        if j*(j+1)==i:\n",
    "            f = 1\n",
    "            break\n",
    "    if f == 1:\n",
    "            print(i)"
   ]
  },
  {
   "cell_type": "code",
   "execution_count": null,
   "metadata": {},
   "outputs": [],
   "source": []
  }
 ],
 "metadata": {
  "kernelspec": {
   "display_name": "Python 3",
   "language": "python",
   "name": "python3"
  },
  "language_info": {
   "codemirror_mode": {
    "name": "ipython",
    "version": 3
   },
   "file_extension": ".py",
   "mimetype": "text/x-python",
   "name": "python",
   "nbconvert_exporter": "python",
   "pygments_lexer": "ipython3",
   "version": "3.8.5"
  }
 },
 "nbformat": 4,
 "nbformat_minor": 4
}
