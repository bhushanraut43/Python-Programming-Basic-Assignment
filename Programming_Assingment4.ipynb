{
 "cells": [
  {
   "cell_type": "markdown",
   "metadata": {},
   "source": [
    "1.Write a Python Program to Find the Factorial of a Number?"
   ]
  },
  {
   "cell_type": "code",
   "execution_count": 15,
   "metadata": {},
   "outputs": [
    {
     "name": "stdout",
     "output_type": "stream",
     "text": [
      "Enter the number ti find Factorial12\n",
      "The factorial is 479001600\n"
     ]
    }
   ],
   "source": [
    "a = int(input(\"Enter the number ti find Factorial\"))\n",
    "factorial = 1\n",
    "if a<0:\n",
    "    print(\"invalid number\")\n",
    "elif a == 0:\n",
    "    print(\"the factorial of 0 is 1\")\n",
    "else:\n",
    "    for i in range(1, a+1):\n",
    "        factorial = factorial*i\n",
    "    print(\"The factorial is\", factorial)"
   ]
  },
  {
   "cell_type": "markdown",
   "metadata": {},
   "source": [
    "2.Write a Python Program to Display the multiplication Table?"
   ]
  },
  {
   "cell_type": "code",
   "execution_count": 22,
   "metadata": {},
   "outputs": [
    {
     "name": "stdout",
     "output_type": "stream",
     "text": [
      "Enter the number4\n",
      "4\n",
      "8\n",
      "12\n",
      "16\n",
      "20\n",
      "24\n",
      "28\n",
      "32\n",
      "36\n",
      "40\n"
     ]
    }
   ],
   "source": [
    "a_2 = int(input(\"Enter the number\"))\n",
    "for i in range(1,11):\n",
    "    product = a_2*i\n",
    "    print(product)"
   ]
  },
  {
   "cell_type": "markdown",
   "metadata": {},
   "source": [
    "or"
   ]
  },
  {
   "cell_type": "code",
   "execution_count": 34,
   "metadata": {},
   "outputs": [],
   "source": [
    "def table(n):\n",
    "    for i in range(1,11):\n",
    "        product = n*i\n",
    "        print(product)"
   ]
  },
  {
   "cell_type": "code",
   "execution_count": 35,
   "metadata": {},
   "outputs": [
    {
     "name": "stdout",
     "output_type": "stream",
     "text": [
      "4\n",
      "8\n",
      "12\n",
      "16\n",
      "20\n",
      "24\n",
      "28\n",
      "32\n",
      "36\n",
      "40\n"
     ]
    }
   ],
   "source": [
    "table(4)"
   ]
  },
  {
   "cell_type": "markdown",
   "metadata": {},
   "source": [
    "3.Write a Python Program to Print the Fibonacci sequence?"
   ]
  },
  {
   "cell_type": "code",
   "execution_count": 3,
   "metadata": {},
   "outputs": [
    {
     "name": "stdout",
     "output_type": "stream",
     "text": [
      "Enter the number50\n",
      "0\n",
      "1\n",
      "1\n",
      "2\n",
      "3\n",
      "5\n",
      "8\n",
      "13\n",
      "21\n",
      "34\n"
     ]
    }
   ],
   "source": [
    "number = int(input(\"Enter the number\"))\n",
    "n1 = 0\n",
    "n2 = 1\n",
    "print(n1)\n",
    "while n2<number:\n",
    "    print(n2)\n",
    "    n1,n2 = n2, n1+n2"
   ]
  },
  {
   "cell_type": "markdown",
   "metadata": {},
   "source": [
    "4.Write a Python Program to Check Armstrong Number?"
   ]
  },
  {
   "cell_type": "code",
   "execution_count": 7,
   "metadata": {},
   "outputs": [
    {
     "name": "stdout",
     "output_type": "stream",
     "text": [
      "its armstrong\n"
     ]
    }
   ],
   "source": [
    "n = 153\n",
    "sum = 0\n",
    "order = len(str(n)) #converted into \"str\" because taking length\n",
    "cop_n = n #created copy of n\n",
    "while(n>0):\n",
    "    dig = n%10\n",
    "    sum+=dig**order\n",
    "    n=n//10\n",
    "if(sum==cop_n):\n",
    "    print(\"its armstrong\")\n",
    "else:\n",
    "    print(\"not armstrong\")"
   ]
  },
  {
   "cell_type": "code",
   "execution_count": 9,
   "metadata": {},
   "outputs": [
    {
     "name": "stdout",
     "output_type": "stream",
     "text": [
      "Enter the number 4578\n",
      "not armstrong\n"
     ]
    }
   ],
   "source": [
    "#code with takes input and check armstrong or not...\n",
    "n = int(input(\"Enter the number \"))\n",
    "sum = 0\n",
    "order = len(str(n)) #converted into \"str\" because taking length\n",
    "cop_n = n #created copy of n\n",
    "while(n>0):\n",
    "    dig = n%10\n",
    "    sum+=dig**order\n",
    "    n=n//10\n",
    "if(sum==cop_n):\n",
    "    print(\"its armstrong\")\n",
    "else:\n",
    "    print(\"not armstrong\")"
   ]
  },
  {
   "cell_type": "markdown",
   "metadata": {},
   "source": [
    "5.Write a Python Program to Find Armstrong Number in an Interval?"
   ]
  },
  {
   "cell_type": "code",
   "execution_count": 11,
   "metadata": {},
   "outputs": [
    {
     "name": "stdout",
     "output_type": "stream",
     "text": [
      "Enter lower number458\n",
      "Enter high number9856\n",
      "1634\n",
      "8208\n",
      "9474\n"
     ]
    }
   ],
   "source": [
    "l = int(input(\"Enter lower number\"))\n",
    "h = int(input(\"Enter high number\"))\n",
    "for num in range(l,h+1):\n",
    "    order = len(str(num))\n",
    "    sum=0\n",
    "    temp = num #stored into temp\n",
    "    while temp>0:\n",
    "        digit = temp%10\n",
    "        sum+=digit**order\n",
    "        temp//=10\n",
    "    if num==sum:\n",
    "        print(num)"
   ]
  },
  {
   "cell_type": "markdown",
   "metadata": {},
   "source": [
    "6.Write a Python Program to Find the Sum of Natural Numbers?"
   ]
  },
  {
   "cell_type": "code",
   "execution_count": 3,
   "metadata": {},
   "outputs": [
    {
     "name": "stdout",
     "output_type": "stream",
     "text": [
      "Enter number50\n",
      "1275\n"
     ]
    }
   ],
   "source": [
    "n = int(input(\"Enter number\"))\n",
    "if n<0:\n",
    "    print(\"invallid number\")\n",
    "else:\n",
    "    sum=0\n",
    "    while(n>0):\n",
    "        sum+=n\n",
    "        n-=1\n",
    "    print(sum)"
   ]
  },
  {
   "cell_type": "code",
   "execution_count": null,
   "metadata": {},
   "outputs": [],
   "source": []
  }
 ],
 "metadata": {
  "kernelspec": {
   "display_name": "Python 3",
   "language": "python",
   "name": "python3"
  },
  "language_info": {
   "codemirror_mode": {
    "name": "ipython",
    "version": 3
   },
   "file_extension": ".py",
   "mimetype": "text/x-python",
   "name": "python",
   "nbconvert_exporter": "python",
   "pygments_lexer": "ipython3",
   "version": "3.8.5"
  }
 },
 "nbformat": 4,
 "nbformat_minor": 4
}
