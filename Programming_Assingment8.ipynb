{
 "cells": [
  {
   "cell_type": "markdown",
   "metadata": {},
   "source": [
    "1.Write a Python Program to Add Two Matrices?"
   ]
  },
  {
   "cell_type": "code",
   "execution_count": 18,
   "metadata": {},
   "outputs": [
    {
     "name": "stdout",
     "output_type": "stream",
     "text": [
      "[86, 98, 14]\n",
      "[105, 126, 107]\n",
      "[113, 62, 112]\n"
     ]
    }
   ],
   "source": [
    "a = [[33,17,3],\n",
    "    [41,51,64],\n",
    "    [71,8,19]]\n",
    "\n",
    "b = [[53,81,11],\n",
    "    [64,75,43],\n",
    "    [42,54,93]]\n",
    "\n",
    "r = [[0,0,0],\n",
    "    [0,0,0],\n",
    "    [0,0,0]]\n",
    "\n",
    "for i in range(len(a)):\n",
    "    for j in range(len(a[0])):\n",
    "        r[i][j] = a[i][j]+b[i][j]\n",
    "for i in r:\n",
    "    print(i)\n"
   ]
  },
  {
   "cell_type": "markdown",
   "metadata": {},
   "source": [
    "2.Write a Python Program to Multiply Two Matrices?"
   ]
  },
  {
   "cell_type": "code",
   "execution_count": 30,
   "metadata": {},
   "outputs": [
    {
     "name": "stdout",
     "output_type": "stream",
     "text": [
      "[2963, 4110, 1373]\n",
      "[8125, 10602, 8596]\n",
      "[5073, 7377, 2892]\n"
     ]
    }
   ],
   "source": [
    "a = [[33,17,3],\n",
    "    [41,51,64],\n",
    "    [71,8,19]]\n",
    "\n",
    "b = [[53,81,11],\n",
    "    [64,75,43],\n",
    "    [42,54,93]]\n",
    "\n",
    "\n",
    "r = [[0,0,0],\n",
    "    [0,0,0],\n",
    "    [0,0,0]]\n",
    "for i in range(len(a)):\n",
    "    for j in range(len(b[0])):\n",
    "        for k in range(len(b)):\n",
    "            r[i][j] += a[i][k]*b[k][j]\n",
    "for i in r:\n",
    "    print(i)\n"
   ]
  },
  {
   "cell_type": "markdown",
   "metadata": {},
   "source": [
    "3.Write a Python Program to Transpose a Matrix?"
   ]
  },
  {
   "cell_type": "code",
   "execution_count": 38,
   "metadata": {},
   "outputs": [
    {
     "name": "stdout",
     "output_type": "stream",
     "text": [
      "[33, 41, 71]\n",
      "[17, 51, 8]\n",
      "[3, 64, 19]\n",
      "[2, 3, 4]\n"
     ]
    }
   ],
   "source": [
    "a = [[33,17,3,2],\n",
    "    [41,51,64,3],\n",
    "    [71,8,19,4]]\n",
    "r = [[0,0,0],\n",
    "    [0,0,0],\n",
    "    [0,0,0],\n",
    "    [0,0,0]]\n",
    "for i in range(len(a)):\n",
    "    for j in range(len(a[0])):\n",
    "        r[j][i]=a[i][j]\n",
    "for i in r:\n",
    "    print(i)"
   ]
  },
  {
   "cell_type": "markdown",
   "metadata": {},
   "source": [
    "4.Write a Python Program to Sort Words in Alphabetic Order?"
   ]
  },
  {
   "cell_type": "code",
   "execution_count": 43,
   "metadata": {},
   "outputs": [
    {
     "name": "stdout",
     "output_type": "stream",
     "text": [
      "Enter words to sort: my name is bhushan raut from pune\n",
      "bhushan\n",
      "from\n",
      "is\n",
      "my\n",
      "name\n",
      "pune\n",
      "raut\n"
     ]
    }
   ],
   "source": [
    "words = input(\"Enter words to sort: \")\n",
    "w = words.split()\n",
    "w.sort()\n",
    "for i in w:\n",
    "    print(i)"
   ]
  },
  {
   "cell_type": "markdown",
   "metadata": {},
   "source": [
    "5.rite a Python Program to Remove Punctuation From a String?"
   ]
  },
  {
   "cell_type": "code",
   "execution_count": 46,
   "metadata": {},
   "outputs": [
    {
     "name": "stdout",
     "output_type": "stream",
     "text": [
      "Enter something: bhushan @ raut !!! $%\n",
      "bhushan  raut  \n"
     ]
    }
   ],
   "source": [
    "p = \"!@#$%^&*?><,./:\"\n",
    "a = input(\"Enter something: \")\n",
    "r_pun = \"\"\n",
    "for i in a:\n",
    "    if i not in p:\n",
    "        r_pun = r_pun+i\n",
    "print(r_pun)"
   ]
  },
  {
   "cell_type": "code",
   "execution_count": null,
   "metadata": {},
   "outputs": [],
   "source": []
  }
 ],
 "metadata": {
  "kernelspec": {
   "display_name": "Python 3",
   "language": "python",
   "name": "python3"
  },
  "language_info": {
   "codemirror_mode": {
    "name": "ipython",
    "version": 3
   },
   "file_extension": ".py",
   "mimetype": "text/x-python",
   "name": "python",
   "nbconvert_exporter": "python",
   "pygments_lexer": "ipython3",
   "version": "3.8.5"
  }
 },
 "nbformat": 4,
 "nbformat_minor": 4
}
