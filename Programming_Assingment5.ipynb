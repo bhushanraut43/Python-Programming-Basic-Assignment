{
 "cells": [
  {
   "cell_type": "markdown",
   "metadata": {},
   "source": [
    "1.Write a Python Program to Find LCM?"
   ]
  },
  {
   "cell_type": "code",
   "execution_count": 12,
   "metadata": {},
   "outputs": [
    {
     "name": "stdout",
     "output_type": "stream",
     "text": [
      "Enter the values of a: 20\n",
      "Enter the value of b: 28\n",
      "140\n"
     ]
    }
   ],
   "source": [
    "#formula:  LCM= a*b/gcd(a,b)\n",
    "a = int(input(\"Enter the values of a: \"))\n",
    "b = int(input(\"Enter the value of b: \"))\n",
    "max_value = max(a,b)\n",
    "while (True):\n",
    "    if(max_value%a==0 and max_value%b==0):\n",
    "        break\n",
    "    max_value = max_value+1\n",
    "print(max_value)"
   ]
  },
  {
   "cell_type": "markdown",
   "metadata": {},
   "source": [
    "2.Write a Python Program to Find HCF?"
   ]
  },
  {
   "cell_type": "code",
   "execution_count": 6,
   "metadata": {},
   "outputs": [
    {
     "data": {
      "text/plain": [
       "2"
      ]
     },
     "execution_count": 6,
     "metadata": {},
     "output_type": "execute_result"
    }
   ],
   "source": [
    "def hcf(x,y):\n",
    "    while(y):\n",
    "        x,y = y,x%y\n",
    "    return x\n",
    "HCF = hcf(50,84)\n",
    "HCF"
   ]
  },
  {
   "cell_type": "markdown",
   "metadata": {},
   "source": [
    "3.Write a Python Program to Convert Decimal to Binary, Octal and Hexadecimal?"
   ]
  },
  {
   "cell_type": "code",
   "execution_count": 8,
   "metadata": {},
   "outputs": [
    {
     "name": "stdout",
     "output_type": "stream",
     "text": [
      "Enter decimal value344\n",
      "The decimal value is 344\n",
      "the binary value is 0b101011000\n",
      "the octal value is 0o530\n",
      "the Hexadecimal value is 0x158\n"
     ]
    }
   ],
   "source": [
    "dec = int(input(\"Enter decimal value\"))\n",
    "print(\"The decimal value is\", dec)\n",
    "print(\"the binary value is\", bin(dec))\n",
    "print(\"the octal value is\", oct(dec))\n",
    "print(\"the Hexadecimal value is\", hex(dec))"
   ]
  },
  {
   "cell_type": "markdown",
   "metadata": {},
   "source": [
    "4.Write a Python Program To Find ASCII value of a character?"
   ]
  },
  {
   "cell_type": "code",
   "execution_count": 12,
   "metadata": {},
   "outputs": [
    {
     "name": "stdout",
     "output_type": "stream",
     "text": [
      "Enter charactera\n",
      "the ascii value of a is 97\n"
     ]
    }
   ],
   "source": [
    "c = input(\"Enter character\")\n",
    "print(\"the ascii value of\",c, \"is\" ,ord(c))"
   ]
  },
  {
   "cell_type": "markdown",
   "metadata": {},
   "source": [
    "5.Write a Python Program to Make a Simple Calculator with 4 basic mathematical operations?"
   ]
  },
  {
   "cell_type": "code",
   "execution_count": 29,
   "metadata": {},
   "outputs": [
    {
     "name": "stdout",
     "output_type": "stream",
     "text": [
      "Please select options\n",
      " 1.add\n",
      " 2.subtract\n",
      " 3.multiply\n",
      " 4.divide\n",
      "Please selece above options\n",
      "3\n",
      "enter first number: 7\n",
      "Enter second number: 5\n",
      "the multiplication is  35\n"
     ]
    }
   ],
   "source": [
    "def add(x,y):\n",
    "    return x+y\n",
    "def sub(x,y):\n",
    "    return x-y\n",
    "def mult(x,y):\n",
    "    return x*y\n",
    "def divide(x,y):\n",
    "    return x/y\n",
    "\n",
    "print(\"Please select options\\n 1.add\\n 2.subtract\\n 3.multiply\\n 4.divide\" )\n",
    "\n",
    "selection = input(\"Please selece above options\\n\")\n",
    "\n",
    "n1 = int(input(\"enter first number: \"))\n",
    "n2 = int(input(\"Enter second number: \"))\n",
    "\n",
    "if selection == '1':\n",
    "    print(\"the addition is \",add(n1,n2))\n",
    "elif selection == '2':\n",
    "    print(\"the subtraction is \",sub(n1,n2))\n",
    "elif selection == '3':\n",
    "    print(\"the multiplication is \",mult(n1,n2))\n",
    "elif selection == '4':\n",
    "    print(\"the division is \",divide(n1,n2))\n",
    "else:\n",
    "    print(\"Invallid\")"
   ]
  },
  {
   "cell_type": "code",
   "execution_count": null,
   "metadata": {},
   "outputs": [],
   "source": []
  }
 ],
 "metadata": {
  "kernelspec": {
   "display_name": "Python 3",
   "language": "python",
   "name": "python3"
  },
  "language_info": {
   "codemirror_mode": {
    "name": "ipython",
    "version": 3
   },
   "file_extension": ".py",
   "mimetype": "text/x-python",
   "name": "python",
   "nbconvert_exporter": "python",
   "pygments_lexer": "ipython3",
   "version": "3.8.5"
  }
 },
 "nbformat": 4,
 "nbformat_minor": 4
}
