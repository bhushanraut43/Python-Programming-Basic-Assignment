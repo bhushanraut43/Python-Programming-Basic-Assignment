{
 "cells": [
  {
   "cell_type": "markdown",
   "metadata": {},
   "source": [
    "1.Write a Python program to find words which are greater than given length k?"
   ]
  },
  {
   "cell_type": "code",
   "execution_count": 14,
   "metadata": {},
   "outputs": [
    {
     "name": "stdout",
     "output_type": "stream",
     "text": [
      "Enter text: bhushan\n",
      "greater than given length\n"
     ]
    }
   ],
   "source": [
    "a = input(\"Enter text: \")\n",
    "k = 5\n",
    "ls = []\n",
    "b=a.split(\" \")\n",
    "for i in b:\n",
    "    if len(i)>k:\n",
    "        ls.append(i)\n",
    "        print(\"greater than given length\")\n",
    "    else:\n",
    "        print(\"Incorrect\")"
   ]
  },
  {
   "cell_type": "markdown",
   "metadata": {},
   "source": [
    "2.Write a Python program for removing i-th character from a string?"
   ]
  },
  {
   "cell_type": "code",
   "execution_count": 18,
   "metadata": {},
   "outputs": [
    {
     "name": "stdout",
     "output_type": "stream",
     "text": [
      "Enter text: bhuShan\n",
      "bhuhan\n"
     ]
    }
   ],
   "source": [
    "a = input(\"Enter text: \")\n",
    "b = 3\n",
    "s = \"\"\n",
    "for i in range(len(a)):\n",
    "    if i !=b:\n",
    "        s=s+a[i]\n",
    "print(s)"
   ]
  },
  {
   "cell_type": "markdown",
   "metadata": {},
   "source": [
    "3.Write a Python program to split and join a string?"
   ]
  },
  {
   "cell_type": "code",
   "execution_count": 20,
   "metadata": {},
   "outputs": [
    {
     "name": "stdout",
     "output_type": "stream",
     "text": [
      "['AI', 'projects']\n"
     ]
    }
   ],
   "source": [
    "#1: split\n",
    "a = \"AI projects\"\n",
    "print(a.split())"
   ]
  },
  {
   "cell_type": "code",
   "execution_count": 31,
   "metadata": {},
   "outputs": [
    {
     "name": "stdout",
     "output_type": "stream",
     "text": [
      "pythonprojects\n"
     ]
    }
   ],
   "source": [
    "#2: join\n",
    "a = [\"python\", \"projects\"]\n",
    "b = \"\"\n",
    "c = b.join(a)\n",
    "print(c)"
   ]
  },
  {
   "cell_type": "markdown",
   "metadata": {},
   "source": [
    "4.Write a Python to check if a given string is binary string or not?"
   ]
  },
  {
   "cell_type": "code",
   "execution_count": 35,
   "metadata": {},
   "outputs": [
    {
     "name": "stdout",
     "output_type": "stream",
     "text": [
      "Enter String: 1011100111\n",
      "Its binary\n"
     ]
    }
   ],
   "source": [
    "a = input(\"Enter String: \")\n",
    "f = True\n",
    "for i in a:\n",
    "    if(i == '0' or i =='1'):\n",
    "        continue\n",
    "    else:\n",
    "        f = False\n",
    "        print(\"sorry, Not binary\")\n",
    "        break\n",
    "if(f):\n",
    "    print(\"Its binary\")"
   ]
  },
  {
   "cell_type": "markdown",
   "metadata": {},
   "source": [
    "5.Write a Python program to find uncommon words from two Strings?"
   ]
  },
  {
   "cell_type": "code",
   "execution_count": 40,
   "metadata": {},
   "outputs": [
    {
     "name": "stdout",
     "output_type": "stream",
     "text": [
      "['progeamming', 'basic']\n"
     ]
    }
   ],
   "source": [
    "a = \"I am doing python assignment\"\n",
    "b = \"I am doing python progeamming basic assignment\"\n",
    "count={}\n",
    "for i in a.split():\n",
    "    count[i] = count.get(i,0)+1\n",
    "for i in b.split():\n",
    "    count[i] = count.get(i,0)+1\n",
    "c = [i for i in count if count[i]==1]\n",
    "print(c)"
   ]
  },
  {
   "cell_type": "code",
   "execution_count": 41,
   "metadata": {},
   "outputs": [
    {
     "name": "stdout",
     "output_type": "stream",
     "text": [
      "['progeamming', 'basic']\n"
     ]
    }
   ],
   "source": [
    "#2: we can also do it by using def\n",
    "def find(a,b):\n",
    "    count={}\n",
    "    for i in a.split():\n",
    "        count[i] = count.get(i,0)+1\n",
    "    for i in b.split():\n",
    "        count[i] = count.get(i,0)+1\n",
    "    return [i for i in count if count[i]==1]\n",
    "a = \"I am doing python assignment\"\n",
    "b = \"I am doing python progeamming basic assignment\"\n",
    "print(find(a,b))"
   ]
  },
  {
   "cell_type": "markdown",
   "metadata": {},
   "source": [
    "6.Write a Python to find all duplicate characters in string?"
   ]
  },
  {
   "cell_type": "code",
   "execution_count": 47,
   "metadata": {},
   "outputs": [
    {
     "name": "stdout",
     "output_type": "stream",
     "text": [
      "Enter string: bhushan\n",
      "h\n"
     ]
    }
   ],
   "source": [
    "a = input(\"Enter string: \")\n",
    "d = []\n",
    "for i in a:\n",
    "    if a.count(i)>1:\n",
    "        if i not in d:\n",
    "            d.append(i)\n",
    "print(*d)"
   ]
  },
  {
   "cell_type": "markdown",
   "metadata": {},
   "source": [
    "7.Write a Python Program to check if a string contains any special character?"
   ]
  },
  {
   "cell_type": "code",
   "execution_count": 50,
   "metadata": {},
   "outputs": [
    {
     "name": "stdout",
     "output_type": "stream",
     "text": [
      "bhu!@#shan\n",
      "string contains special character\n"
     ]
    }
   ],
   "source": [
    "sp_char = \"!@#$%^&*(),./\\];''-+*\"\n",
    "a = input()\n",
    "if any(c in sp_char for c in a):\n",
    "    print(\"string contains special character\")\n",
    "else:\n",
    "    print(\"string NOT contains any special character\")"
   ]
  },
  {
   "cell_type": "code",
   "execution_count": null,
   "metadata": {},
   "outputs": [],
   "source": []
  }
 ],
 "metadata": {
  "kernelspec": {
   "display_name": "Python 3",
   "language": "python",
   "name": "python3"
  },
  "language_info": {
   "codemirror_mode": {
    "name": "ipython",
    "version": 3
   },
   "file_extension": ".py",
   "mimetype": "text/x-python",
   "name": "python",
   "nbconvert_exporter": "python",
   "pygments_lexer": "ipython3",
   "version": "3.8.5"
  }
 },
 "nbformat": 4,
 "nbformat_minor": 4
}
